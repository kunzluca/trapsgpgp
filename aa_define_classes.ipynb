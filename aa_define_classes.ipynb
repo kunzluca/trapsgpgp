{
 "cells": [
  {
   "cell_type": "markdown",
   "metadata": {},
   "source": [
    "The contents of this script are independently licensed under the Creative Commons Attribution 4.0 International License (CC BY 4.0). This licensing applies solely to this script and does not affect the licensing terms of the source repository, should they differ. © 2024 Luca Kunz."
   ]
  },
  {
   "cell_type": "markdown",
   "metadata": {},
   "source": [
    "TRAPs classes\n",
    "==\n",
    "\n",
    "This file contains a one function applied during the TRAPs postprocessing and TRAPs class applied in all pickle saving functions."
   ]
  },
  {
   "cell_type": "code",
   "execution_count": 1,
   "metadata": {},
   "outputs": [],
   "source": [
    "import os\n",
    "import numpy as np\n",
    "from scipy.interpolate import interp1d\n",
    "import pandas as pd\n",
    "import time\n",
    "import datetime\n",
    "import pickle\n",
    "import geopandas\n",
    "from shapely.geometry import Point, LineString, Polygon, asMultiPoint"
   ]
  },
  {
   "cell_type": "markdown",
   "metadata": {},
   "source": [
    "# Interpolation along curve function"
   ]
  },
  {
   "cell_type": "code",
   "execution_count": 2,
   "metadata": {},
   "outputs": [],
   "source": [
    "def interpol_along_curve(xs, ys, interpolation_mode):\n",
    "    '''\n",
    "    This function interpolates TRAP points to equal distances along a TRAP curve.\n",
    "    '''\n",
    "    \n",
    "    # make sure that xs and ys are numpy arrays\n",
    "    xs = np.array(xs)\n",
    "    ys = np.array(ys)\n",
    "    \n",
    "    # get the coordinate distances to the previous TRAP point, is 0 for the first point on the curve\n",
    "    xs_distances_to_previous = np.hstack((0,np.diff(xs))) # insert 0 at the array beginning\n",
    "    ys_distances_to_previous = np.hstack((0,np.diff(ys))) # insert 0 at the array beginning\n",
    "    # get the arclength distances to the previous point\n",
    "    distances = np.sqrt(xs_distances_to_previous**2 + ys_distances_to_previous**2)\n",
    "    \n",
    "    # get the cummulative sum of the arclength distance from point to point along the TRAP curve. \n",
    "    # the last element of s will indicate the total length of the TRAP curve, the first element will be 0\n",
    "    s = np.cumsum(distances)\n",
    "    \n",
    "    # assert that the last element is also the maximal value\n",
    "    assert s[-1]==max(s), 'error generating cumsum array'\n",
    "\n",
    "    # double check the total curve length\n",
    "    assert np.round(s[-1], decimals=5)==np.round(np.sum(distances), decimals=5), 'error generating cumsum array'\n",
    "    \n",
    "    # save the total arclength of the curve\n",
    "    total_curve_length = s[-1]\n",
    "    \n",
    "    # now map the original points on the curve parameterisation (in terms of arclength distance from the first point) \n",
    "    # to their values in the cartesian space and get an interpolation function for everything in between\n",
    "    s_to_xs_interpolfunc = interp1d(s, xs, 'linear') # prefer linear interpolation since we calculated s linearly\n",
    "    s_to_ys_interpolfunc = interp1d(s, ys, 'linear')\n",
    "    \n",
    "    # define to which arclength distance the equidistant TRAP points shall be interpolated\n",
    "    interpol_distance = 1/12 # the velocity grid resolution is 1/4°, choose something finer, e.g. 1/12°\n",
    "    # get the number of newly interpolated points\n",
    "    num_interpol_points = round(total_curve_length/interpol_distance) + 1 # HERE WE INTRODUCE A ROUNDING ERROR\n",
    "\n",
    "    # curve parameterisation positions of the interpolation points\n",
    "    if interpolation_mode=='ARANGE':\n",
    "        si = np.arange(0, total_curve_length, interpol_distance) # cuts off the last original TRAP point\n",
    "        if total_curve_length==0: si = np.array([0.]) \n",
    "        # if there's only the first original TRAP point, np.arange(0,0,interpol_distance) would cause si=[] and \n",
    "        # throw the empty interpolation array assertion below, but we want this point and thus we prevent this case        \n",
    "    elif interpolation_mode=='LINSPACE':\n",
    "        si = np.linspace(0, total_curve_length, num_interpol_points) # keeps the last original TRAP point but distance varies\n",
    "\n",
    "    # get the cartesian coordinates of the interpolated points along the curve\n",
    "    # these points are equidistant since we hand over equidistant si-values to the interpolation function\n",
    "    # which interpolates and maps them to cartesian coordinates\n",
    "    xsi = s_to_xs_interpolfunc(si)\n",
    "    ysi = s_to_ys_interpolfunc(si)\n",
    "\n",
    "    # assert that the interpolation gave the right number of points and produced no NaN values\n",
    "    assert xsi.size==ysi.size, 'unequal number of interpolation points in x and y'\n",
    "    assert (np.all(~np.isnan(xsi)) and np.all(~np.isnan(ysi))), 'interpolation arrays bear NaN values'\n",
    "    assert xsi.size <= num_interpol_points, 'more interpolation points than expected'\n",
    "    \n",
    "    # assert interpolated curves consist of at least one TRAP point which represents the first original coordinate\n",
    "    assert xsi.size > 0, 'empty interpolation array, total curve length: ' + str(total_curve_length)\n",
    "    assert xsi[0]==xs[0], 'first interpolated coordinate does not equal first original coordinate'\n",
    "    assert ysi[0]==ys[0], 'first interpolated coordinate does not equal first original coordinate'\n",
    "    \n",
    "    return xsi, ysi\n",
    "    "
   ]
  },
  {
   "cell_type": "markdown",
   "metadata": {},
   "source": [
    "# Classes"
   ]
  },
  {
   "cell_type": "code",
   "execution_count": 3,
   "metadata": {},
   "outputs": [],
   "source": [
    "class TRAPSdata:\n",
    "    \"\"\"\n",
    "    This class objectifies the yearly full TRAPS DataFrame of a given velocity product.\n",
    "    \"\"\" \n",
    "        \n",
    "    def __init__(self, product_short, product_long, pd_TRAPS_df):\n",
    "        \n",
    "        self.product_short = product_short # the short name of the underlying velocity product\n",
    "        self.product_long = product_long # the long name of the underlying velocity product\n",
    "        self.pd_TRAPS_df = pd_TRAPS_df # the DataFrame containing all TRAP cores and curves\n",
    "        "
   ]
  }
 ],
 "metadata": {
  "kernelspec": {
   "display_name": "Python 3 (ipykernel)",
   "language": "python",
   "name": "python3"
  },
  "language_info": {
   "codemirror_mode": {
    "name": "ipython",
    "version": 3
   },
   "file_extension": ".py",
   "mimetype": "text/x-python",
   "name": "python",
   "nbconvert_exporter": "python",
   "pygments_lexer": "ipython3",
   "version": "3.9.7"
  }
 },
 "nbformat": 4,
 "nbformat_minor": 4
}
